{
 "cells": [
  {
   "cell_type": "markdown",
   "id": "7a0c31f6",
   "metadata": {},
   "source": [
    "# Data Analysis"
   ]
  },
  {
   "cell_type": "markdown",
   "id": "b3f5603a",
   "metadata": {},
   "source": [
    "## Setup"
   ]
  },
  {
   "cell_type": "code",
   "execution_count": 1,
   "id": "fe624165",
   "metadata": {},
   "outputs": [],
   "source": [
    "import pandas as pd\n",
    "import numpy as np\n",
    "\n",
    "path_preproccesed = '../data/preprocessed.csv'"
   ]
  },
  {
   "cell_type": "code",
   "execution_count": 2,
   "id": "52377425",
   "metadata": {},
   "outputs": [
    {
     "data": {
      "text/html": [
       "<div>\n",
       "<style scoped>\n",
       "    .dataframe tbody tr th:only-of-type {\n",
       "        vertical-align: middle;\n",
       "    }\n",
       "\n",
       "    .dataframe tbody tr th {\n",
       "        vertical-align: top;\n",
       "    }\n",
       "\n",
       "    .dataframe thead th {\n",
       "        text-align: right;\n",
       "    }\n",
       "</style>\n",
       "<table border=\"1\" class=\"dataframe\">\n",
       "  <thead>\n",
       "    <tr style=\"text-align: right;\">\n",
       "      <th></th>\n",
       "      <th>property_id</th>\n",
       "      <th>building</th>\n",
       "      <th>date_sale</th>\n",
       "      <th>type</th>\n",
       "      <th>property#</th>\n",
       "      <th>area</th>\n",
       "      <th>price</th>\n",
       "      <th>status</th>\n",
       "      <th>customerid</th>\n",
       "      <th>entity</th>\n",
       "      <th>...</th>\n",
       "      <th>birth_date</th>\n",
       "      <th>sex</th>\n",
       "      <th>country</th>\n",
       "      <th>state</th>\n",
       "      <th>purpose</th>\n",
       "      <th>deal_satisfaction</th>\n",
       "      <th>mortgage</th>\n",
       "      <th>source_Agency</th>\n",
       "      <th>source_Client</th>\n",
       "      <th>source_Website</th>\n",
       "    </tr>\n",
       "  </thead>\n",
       "  <tbody>\n",
       "    <tr>\n",
       "      <th>0</th>\n",
       "      <td>1030</td>\n",
       "      <td>1</td>\n",
       "      <td>2005-11-01</td>\n",
       "      <td>1</td>\n",
       "      <td>30</td>\n",
       "      <td>743.09</td>\n",
       "      <td>246172.68</td>\n",
       "      <td>1</td>\n",
       "      <td>C0028</td>\n",
       "      <td>0.0</td>\n",
       "      <td>...</td>\n",
       "      <td>1986-06-21</td>\n",
       "      <td>1.0</td>\n",
       "      <td>USA</td>\n",
       "      <td>California</td>\n",
       "      <td>0.0</td>\n",
       "      <td>5.0</td>\n",
       "      <td>0.0</td>\n",
       "      <td>False</td>\n",
       "      <td>False</td>\n",
       "      <td>True</td>\n",
       "    </tr>\n",
       "    <tr>\n",
       "      <th>1</th>\n",
       "      <td>1029</td>\n",
       "      <td>1</td>\n",
       "      <td>2005-10-01</td>\n",
       "      <td>1</td>\n",
       "      <td>29</td>\n",
       "      <td>756.21</td>\n",
       "      <td>246331.90</td>\n",
       "      <td>1</td>\n",
       "      <td>C0027</td>\n",
       "      <td>0.0</td>\n",
       "      <td>...</td>\n",
       "      <td>1983-02-24</td>\n",
       "      <td>1.0</td>\n",
       "      <td>USA</td>\n",
       "      <td>California</td>\n",
       "      <td>0.0</td>\n",
       "      <td>5.0</td>\n",
       "      <td>0.0</td>\n",
       "      <td>False</td>\n",
       "      <td>False</td>\n",
       "      <td>True</td>\n",
       "    </tr>\n",
       "    <tr>\n",
       "      <th>2</th>\n",
       "      <td>2002</td>\n",
       "      <td>2</td>\n",
       "      <td>2007-07-01</td>\n",
       "      <td>1</td>\n",
       "      <td>2</td>\n",
       "      <td>587.28</td>\n",
       "      <td>209280.91</td>\n",
       "      <td>1</td>\n",
       "      <td>C0112</td>\n",
       "      <td>0.0</td>\n",
       "      <td>...</td>\n",
       "      <td>1985-12-27</td>\n",
       "      <td>0.0</td>\n",
       "      <td>USA</td>\n",
       "      <td>California</td>\n",
       "      <td>0.0</td>\n",
       "      <td>1.0</td>\n",
       "      <td>1.0</td>\n",
       "      <td>False</td>\n",
       "      <td>True</td>\n",
       "      <td>False</td>\n",
       "    </tr>\n",
       "    <tr>\n",
       "      <th>3</th>\n",
       "      <td>2031</td>\n",
       "      <td>2</td>\n",
       "      <td>2007-12-01</td>\n",
       "      <td>1</td>\n",
       "      <td>31</td>\n",
       "      <td>1604.75</td>\n",
       "      <td>452667.01</td>\n",
       "      <td>1</td>\n",
       "      <td>C0160</td>\n",
       "      <td>0.0</td>\n",
       "      <td>...</td>\n",
       "      <td>1985-12-27</td>\n",
       "      <td>0.0</td>\n",
       "      <td>USA</td>\n",
       "      <td>California</td>\n",
       "      <td>1.0</td>\n",
       "      <td>3.0</td>\n",
       "      <td>1.0</td>\n",
       "      <td>False</td>\n",
       "      <td>False</td>\n",
       "      <td>True</td>\n",
       "    </tr>\n",
       "    <tr>\n",
       "      <th>4</th>\n",
       "      <td>1049</td>\n",
       "      <td>1</td>\n",
       "      <td>2004-11-01</td>\n",
       "      <td>1</td>\n",
       "      <td>49</td>\n",
       "      <td>1375.45</td>\n",
       "      <td>467083.31</td>\n",
       "      <td>1</td>\n",
       "      <td>C0014</td>\n",
       "      <td>0.0</td>\n",
       "      <td>...</td>\n",
       "      <td>1979-05-15</td>\n",
       "      <td>1.0</td>\n",
       "      <td>USA</td>\n",
       "      <td>California</td>\n",
       "      <td>0.0</td>\n",
       "      <td>4.0</td>\n",
       "      <td>0.0</td>\n",
       "      <td>True</td>\n",
       "      <td>False</td>\n",
       "      <td>False</td>\n",
       "    </tr>\n",
       "  </tbody>\n",
       "</table>\n",
       "<p>5 rows × 22 columns</p>\n",
       "</div>"
      ],
      "text/plain": [
       "   property_id  building   date_sale  type  property#     area      price  \\\n",
       "0         1030         1  2005-11-01     1         30   743.09  246172.68   \n",
       "1         1029         1  2005-10-01     1         29   756.21  246331.90   \n",
       "2         2002         2  2007-07-01     1          2   587.28  209280.91   \n",
       "3         2031         2  2007-12-01     1         31  1604.75  452667.01   \n",
       "4         1049         1  2004-11-01     1         49  1375.45  467083.31   \n",
       "\n",
       "   status customerid  entity  ...  birth_date  sex country       state  \\\n",
       "0       1      C0028     0.0  ...  1986-06-21  1.0     USA  California   \n",
       "1       1      C0027     0.0  ...  1983-02-24  1.0     USA  California   \n",
       "2       1      C0112     0.0  ...  1985-12-27  0.0     USA  California   \n",
       "3       1      C0160     0.0  ...  1985-12-27  0.0     USA  California   \n",
       "4       1      C0014     0.0  ...  1979-05-15  1.0     USA  California   \n",
       "\n",
       "  purpose deal_satisfaction  mortgage  source_Agency  source_Client  \\\n",
       "0     0.0               5.0       0.0          False          False   \n",
       "1     0.0               5.0       0.0          False          False   \n",
       "2     0.0               1.0       1.0          False           True   \n",
       "3     1.0               3.0       1.0          False          False   \n",
       "4     0.0               4.0       0.0           True          False   \n",
       "\n",
       "  source_Website  \n",
       "0           True  \n",
       "1           True  \n",
       "2          False  \n",
       "3           True  \n",
       "4          False  \n",
       "\n",
       "[5 rows x 22 columns]"
      ]
     },
     "execution_count": 2,
     "metadata": {},
     "output_type": "execute_result"
    }
   ],
   "source": [
    "df = pd.read_csv(path_preproccesed)\n",
    "df.head()"
   ]
  },
  {
   "cell_type": "code",
   "execution_count": 3,
   "id": "e79731e8",
   "metadata": {},
   "outputs": [
    {
     "data": {
      "text/plain": [
       "(267, 22)"
      ]
     },
     "execution_count": 3,
     "metadata": {},
     "output_type": "execute_result"
    }
   ],
   "source": [
    "df.shape"
   ]
  },
  {
   "cell_type": "markdown",
   "id": "49a79c20",
   "metadata": {},
   "source": [
    "---"
   ]
  },
  {
   "cell_type": "markdown",
   "id": "87052190",
   "metadata": {},
   "source": [
    "## Analysis"
   ]
  },
  {
   "cell_type": "markdown",
   "id": "fc73fdd5",
   "metadata": {},
   "source": [
    "The aim is to understand the distribution of the key variables to answer the following questions:\n",
    "- What are the sales and overall performance by building type?\n",
    "- What are the sales and overall performance by country and state?"
   ]
  },
  {
   "cell_type": "markdown",
   "id": "d9d0716e",
   "metadata": {},
   "source": [
    "### `Building`"
   ]
  },
  {
   "cell_type": "markdown",
   "id": "df50bde1",
   "metadata": {},
   "source": [
    "There are 5 types of buildings in the dataset."
   ]
  },
  {
   "cell_type": "code",
   "execution_count": 4,
   "id": "7891a8e4",
   "metadata": {},
   "outputs": [
    {
     "data": {
      "text/plain": [
       "{1, 2, 3, 4, 5}"
      ]
     },
     "execution_count": 4,
     "metadata": {},
     "output_type": "execute_result"
    }
   ],
   "source": [
    "set(df['building'])"
   ]
  },
  {
   "cell_type": "markdown",
   "id": "35e5704c",
   "metadata": {},
   "source": [
    "In order to examine the totals by building types, we study the total number of sold properties and how many of them had mortgages per building type."
   ]
  },
  {
   "cell_type": "code",
   "execution_count": 6,
   "id": "586fd42c",
   "metadata": {},
   "outputs": [],
   "source": [
    "buildings_df = df[['building', 'mortgage', 'status']]"
   ]
  },
  {
   "cell_type": "code",
   "execution_count": 14,
   "id": "fd38d28a",
   "metadata": {},
   "outputs": [
    {
     "data": {
      "text/html": [
       "<div>\n",
       "<style scoped>\n",
       "    .dataframe tbody tr th:only-of-type {\n",
       "        vertical-align: middle;\n",
       "    }\n",
       "\n",
       "    .dataframe tbody tr th {\n",
       "        vertical-align: top;\n",
       "    }\n",
       "\n",
       "    .dataframe thead th {\n",
       "        text-align: right;\n",
       "    }\n",
       "</style>\n",
       "<table border=\"1\" class=\"dataframe\">\n",
       "  <thead>\n",
       "    <tr style=\"text-align: right;\">\n",
       "      <th></th>\n",
       "      <th>building</th>\n",
       "      <th>mortgage</th>\n",
       "    </tr>\n",
       "  </thead>\n",
       "  <tbody>\n",
       "    <tr>\n",
       "      <th>0</th>\n",
       "      <td>1</td>\n",
       "      <td>0.0</td>\n",
       "    </tr>\n",
       "    <tr>\n",
       "      <th>1</th>\n",
       "      <td>1</td>\n",
       "      <td>0.0</td>\n",
       "    </tr>\n",
       "    <tr>\n",
       "      <th>2</th>\n",
       "      <td>2</td>\n",
       "      <td>1.0</td>\n",
       "    </tr>\n",
       "    <tr>\n",
       "      <th>3</th>\n",
       "      <td>2</td>\n",
       "      <td>1.0</td>\n",
       "    </tr>\n",
       "    <tr>\n",
       "      <th>4</th>\n",
       "      <td>1</td>\n",
       "      <td>0.0</td>\n",
       "    </tr>\n",
       "    <tr>\n",
       "      <th>...</th>\n",
       "      <td>...</td>\n",
       "      <td>...</td>\n",
       "    </tr>\n",
       "    <tr>\n",
       "      <th>191</th>\n",
       "      <td>1</td>\n",
       "      <td>0.0</td>\n",
       "    </tr>\n",
       "    <tr>\n",
       "      <th>192</th>\n",
       "      <td>1</td>\n",
       "      <td>0.0</td>\n",
       "    </tr>\n",
       "    <tr>\n",
       "      <th>193</th>\n",
       "      <td>1</td>\n",
       "      <td>0.0</td>\n",
       "    </tr>\n",
       "    <tr>\n",
       "      <th>194</th>\n",
       "      <td>1</td>\n",
       "      <td>0.0</td>\n",
       "    </tr>\n",
       "    <tr>\n",
       "      <th>195</th>\n",
       "      <td>1</td>\n",
       "      <td>0.0</td>\n",
       "    </tr>\n",
       "  </tbody>\n",
       "</table>\n",
       "<p>195 rows × 2 columns</p>\n",
       "</div>"
      ],
      "text/plain": [
       "     building  mortgage\n",
       "0           1       0.0\n",
       "1           1       0.0\n",
       "2           2       1.0\n",
       "3           2       1.0\n",
       "4           1       0.0\n",
       "..        ...       ...\n",
       "191         1       0.0\n",
       "192         1       0.0\n",
       "193         1       0.0\n",
       "194         1       0.0\n",
       "195         1       0.0\n",
       "\n",
       "[195 rows x 2 columns]"
      ]
     },
     "execution_count": 14,
     "metadata": {},
     "output_type": "execute_result"
    }
   ],
   "source": [
    "sold_buildings_df = buildings_df.loc[df['status'] == 1].drop('status', axis=1).copy()\n",
    "sold_buildings_df"
   ]
  },
  {
   "cell_type": "code",
   "execution_count": 15,
   "id": "f23d5459",
   "metadata": {},
   "outputs": [
    {
     "data": {
      "text/html": [
       "<div>\n",
       "<style scoped>\n",
       "    .dataframe tbody tr th:only-of-type {\n",
       "        vertical-align: middle;\n",
       "    }\n",
       "\n",
       "    .dataframe tbody tr th {\n",
       "        vertical-align: top;\n",
       "    }\n",
       "\n",
       "    .dataframe thead th {\n",
       "        text-align: right;\n",
       "    }\n",
       "</style>\n",
       "<table border=\"1\" class=\"dataframe\">\n",
       "  <thead>\n",
       "    <tr style=\"text-align: right;\">\n",
       "      <th></th>\n",
       "      <th>mortgage</th>\n",
       "    </tr>\n",
       "    <tr>\n",
       "      <th>building</th>\n",
       "      <th></th>\n",
       "    </tr>\n",
       "  </thead>\n",
       "  <tbody>\n",
       "    <tr>\n",
       "      <th>1</th>\n",
       "      <td>46</td>\n",
       "    </tr>\n",
       "    <tr>\n",
       "      <th>2</th>\n",
       "      <td>54</td>\n",
       "    </tr>\n",
       "    <tr>\n",
       "      <th>3</th>\n",
       "      <td>53</td>\n",
       "    </tr>\n",
       "    <tr>\n",
       "      <th>4</th>\n",
       "      <td>23</td>\n",
       "    </tr>\n",
       "    <tr>\n",
       "      <th>5</th>\n",
       "      <td>19</td>\n",
       "    </tr>\n",
       "  </tbody>\n",
       "</table>\n",
       "</div>"
      ],
      "text/plain": [
       "          mortgage\n",
       "building          \n",
       "1               46\n",
       "2               54\n",
       "3               53\n",
       "4               23\n",
       "5               19"
      ]
     },
     "execution_count": 15,
     "metadata": {},
     "output_type": "execute_result"
    }
   ],
   "source": [
    "sold_buildings_df.groupby('building').count()"
   ]
  },
  {
   "cell_type": "markdown",
   "id": "96acf582",
   "metadata": {},
   "source": [
    "This indicates that there are 54 type 2 buildings sold."
   ]
  },
  {
   "cell_type": "code",
   "execution_count": 16,
   "id": "59bc9e38",
   "metadata": {},
   "outputs": [
    {
     "data": {
      "text/html": [
       "<div>\n",
       "<style scoped>\n",
       "    .dataframe tbody tr th:only-of-type {\n",
       "        vertical-align: middle;\n",
       "    }\n",
       "\n",
       "    .dataframe tbody tr th {\n",
       "        vertical-align: top;\n",
       "    }\n",
       "\n",
       "    .dataframe thead th {\n",
       "        text-align: right;\n",
       "    }\n",
       "</style>\n",
       "<table border=\"1\" class=\"dataframe\">\n",
       "  <thead>\n",
       "    <tr style=\"text-align: right;\">\n",
       "      <th></th>\n",
       "      <th>mortgage</th>\n",
       "    </tr>\n",
       "    <tr>\n",
       "      <th>building</th>\n",
       "      <th></th>\n",
       "    </tr>\n",
       "  </thead>\n",
       "  <tbody>\n",
       "    <tr>\n",
       "      <th>1</th>\n",
       "      <td>14.0</td>\n",
       "    </tr>\n",
       "    <tr>\n",
       "      <th>2</th>\n",
       "      <td>18.0</td>\n",
       "    </tr>\n",
       "    <tr>\n",
       "      <th>3</th>\n",
       "      <td>15.0</td>\n",
       "    </tr>\n",
       "    <tr>\n",
       "      <th>4</th>\n",
       "      <td>9.0</td>\n",
       "    </tr>\n",
       "    <tr>\n",
       "      <th>5</th>\n",
       "      <td>6.0</td>\n",
       "    </tr>\n",
       "  </tbody>\n",
       "</table>\n",
       "</div>"
      ],
      "text/plain": [
       "          mortgage\n",
       "building          \n",
       "1             14.0\n",
       "2             18.0\n",
       "3             15.0\n",
       "4              9.0\n",
       "5              6.0"
      ]
     },
     "execution_count": 16,
     "metadata": {},
     "output_type": "execute_result"
    }
   ],
   "source": [
    "sold_buildings_df.groupby('building').sum()"
   ]
  },
  {
   "cell_type": "markdown",
   "id": "d0c73d8b",
   "metadata": {},
   "source": [
    "It is important to remember that each `Yes` in the column `mortgage` is 1. Consequently, we can observe that type 2 buildings have the most amount of mortgages, whereas type 5 building the least amount."
   ]
  }
 ],
 "metadata": {
  "kernelspec": {
   "display_name": "venv",
   "language": "python",
   "name": "python3"
  },
  "language_info": {
   "codemirror_mode": {
    "name": "ipython",
    "version": 3
   },
   "file_extension": ".py",
   "mimetype": "text/x-python",
   "name": "python",
   "nbconvert_exporter": "python",
   "pygments_lexer": "ipython3",
   "version": "3.12.3"
  }
 },
 "nbformat": 4,
 "nbformat_minor": 5
}
