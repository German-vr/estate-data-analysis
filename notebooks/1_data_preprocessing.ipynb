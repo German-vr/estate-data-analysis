{
 "cells": [
  {
   "cell_type": "markdown",
   "id": "5603e4f2",
   "metadata": {},
   "source": [
    "# Data Preprocessing"
   ]
  },
  {
   "cell_type": "markdown",
   "id": "715516b0",
   "metadata": {},
   "source": [
    "## Setup"
   ]
  },
  {
   "cell_type": "code",
   "execution_count": 49,
   "id": "3e816bb4",
   "metadata": {},
   "outputs": [],
   "source": [
    "import pandas as pd\n",
    "import numpy as np\n",
    "\n",
    "path_properties = '../data/properties.csv'\n",
    "path_customers = '../data/customers.csv'\n",
    "path_preproccesed = '../data/preprocessed.csv'"
   ]
  },
  {
   "cell_type": "markdown",
   "id": "c8d738c4",
   "metadata": {},
   "source": [
    "---"
   ]
  },
  {
   "cell_type": "markdown",
   "id": "628e00b9",
   "metadata": {},
   "source": [
    "## Properties"
   ]
  },
  {
   "cell_type": "code",
   "execution_count": 2,
   "id": "b8162386",
   "metadata": {},
   "outputs": [
    {
     "data": {
      "text/html": [
       "<div>\n",
       "<style scoped>\n",
       "    .dataframe tbody tr th:only-of-type {\n",
       "        vertical-align: middle;\n",
       "    }\n",
       "\n",
       "    .dataframe tbody tr th {\n",
       "        vertical-align: top;\n",
       "    }\n",
       "\n",
       "    .dataframe thead th {\n",
       "        text-align: right;\n",
       "    }\n",
       "</style>\n",
       "<table border=\"1\" class=\"dataframe\">\n",
       "  <thead>\n",
       "    <tr style=\"text-align: right;\">\n",
       "      <th></th>\n",
       "      <th>index</th>\n",
       "      <th>property_id</th>\n",
       "      <th>building</th>\n",
       "      <th>date_sale</th>\n",
       "      <th>type</th>\n",
       "      <th>property#</th>\n",
       "      <th>area</th>\n",
       "      <th>price</th>\n",
       "      <th>status</th>\n",
       "      <th>customerid</th>\n",
       "    </tr>\n",
       "  </thead>\n",
       "  <tbody>\n",
       "    <tr>\n",
       "      <th>0</th>\n",
       "      <td>0</td>\n",
       "      <td>1030</td>\n",
       "      <td>1</td>\n",
       "      <td>11/1/2005</td>\n",
       "      <td>Apartment</td>\n",
       "      <td>30</td>\n",
       "      <td>743.09</td>\n",
       "      <td>$246,172.68</td>\n",
       "      <td>Sold</td>\n",
       "      <td>C0028</td>\n",
       "    </tr>\n",
       "    <tr>\n",
       "      <th>1</th>\n",
       "      <td>1</td>\n",
       "      <td>1029</td>\n",
       "      <td>1</td>\n",
       "      <td>10/1/2005</td>\n",
       "      <td>Apartment</td>\n",
       "      <td>29</td>\n",
       "      <td>756.21</td>\n",
       "      <td>$246,331.90</td>\n",
       "      <td>Sold</td>\n",
       "      <td>C0027</td>\n",
       "    </tr>\n",
       "    <tr>\n",
       "      <th>2</th>\n",
       "      <td>2</td>\n",
       "      <td>2002</td>\n",
       "      <td>2</td>\n",
       "      <td>7/1/2007</td>\n",
       "      <td>Apartment</td>\n",
       "      <td>2</td>\n",
       "      <td>587.28</td>\n",
       "      <td>$209,280.91</td>\n",
       "      <td>Sold</td>\n",
       "      <td>C0112</td>\n",
       "    </tr>\n",
       "    <tr>\n",
       "      <th>3</th>\n",
       "      <td>3</td>\n",
       "      <td>2031</td>\n",
       "      <td>2</td>\n",
       "      <td>12/1/2007</td>\n",
       "      <td>Apartment</td>\n",
       "      <td>31</td>\n",
       "      <td>1604.75</td>\n",
       "      <td>$452,667.01</td>\n",
       "      <td>Sold</td>\n",
       "      <td>C0160</td>\n",
       "    </tr>\n",
       "    <tr>\n",
       "      <th>4</th>\n",
       "      <td>4</td>\n",
       "      <td>1049</td>\n",
       "      <td>1</td>\n",
       "      <td>11/1/2004</td>\n",
       "      <td>Apartment</td>\n",
       "      <td>49</td>\n",
       "      <td>1375.45</td>\n",
       "      <td>$467,083.31</td>\n",
       "      <td>Sold</td>\n",
       "      <td>C0014</td>\n",
       "    </tr>\n",
       "  </tbody>\n",
       "</table>\n",
       "</div>"
      ],
      "text/plain": [
       "   index  property_id  building  date_sale       type  property#     area  \\\n",
       "0      0         1030         1  11/1/2005  Apartment         30   743.09   \n",
       "1      1         1029         1  10/1/2005  Apartment         29   756.21   \n",
       "2      2         2002         2   7/1/2007  Apartment          2   587.28   \n",
       "3      3         2031         2  12/1/2007  Apartment         31  1604.75   \n",
       "4      4         1049         1  11/1/2004  Apartment         49  1375.45   \n",
       "\n",
       "          price  status customerid  \n",
       "0  $246,172.68    Sold      C0028   \n",
       "1  $246,331.90    Sold      C0027   \n",
       "2  $209,280.91    Sold      C0112   \n",
       "3  $452,667.01    Sold      C0160   \n",
       "4  $467,083.31    Sold      C0014   "
      ]
     },
     "execution_count": 2,
     "metadata": {},
     "output_type": "execute_result"
    }
   ],
   "source": [
    "raw_properties_df = pd.read_csv(path_properties, sep=',')\n",
    "raw_properties_df.head()"
   ]
  },
  {
   "cell_type": "code",
   "execution_count": 3,
   "id": "af27c65f",
   "metadata": {},
   "outputs": [
    {
     "data": {
      "text/plain": [
       "index            int64\n",
       "property_id      int64\n",
       "building         int64\n",
       "date_sale       object\n",
       "type            object\n",
       "property#        int64\n",
       "area           float64\n",
       "price           object\n",
       "status          object\n",
       "customerid      object\n",
       "dtype: object"
      ]
     },
     "execution_count": 3,
     "metadata": {},
     "output_type": "execute_result"
    }
   ],
   "source": [
    "raw_properties_df.dtypes"
   ]
  },
  {
   "cell_type": "code",
   "execution_count": 4,
   "id": "8f2ee9ce",
   "metadata": {},
   "outputs": [
    {
     "data": {
      "text/plain": [
       "index           0\n",
       "property_id     0\n",
       "building        0\n",
       "date_sale       0\n",
       "type            0\n",
       "property#       0\n",
       "area            0\n",
       "price           0\n",
       "status          0\n",
       "customerid     72\n",
       "dtype: int64"
      ]
     },
     "execution_count": 4,
     "metadata": {},
     "output_type": "execute_result"
    }
   ],
   "source": [
    "raw_properties_df.isnull().sum()"
   ]
  },
  {
   "cell_type": "code",
   "execution_count": 5,
   "id": "7a064923",
   "metadata": {},
   "outputs": [
    {
     "data": {
      "text/plain": [
       "Index(['index', 'property_id', 'building', 'date_sale', 'type', 'property#',\n",
       "       'area', 'price', 'status', 'customerid'],\n",
       "      dtype='object')"
      ]
     },
     "execution_count": 5,
     "metadata": {},
     "output_type": "execute_result"
    }
   ],
   "source": [
    "raw_properties_df.columns"
   ]
  },
  {
   "cell_type": "markdown",
   "id": "59b71680",
   "metadata": {},
   "source": []
  },
  {
   "cell_type": "code",
   "execution_count": 6,
   "id": "1a98fadb",
   "metadata": {},
   "outputs": [],
   "source": [
    "work_properties_df = raw_properties_df.copy()"
   ]
  },
  {
   "cell_type": "markdown",
   "id": "2c01b2d2",
   "metadata": {},
   "source": [
    "### Categorical to numerical"
   ]
  },
  {
   "cell_type": "markdown",
   "id": "ef8d4cf6",
   "metadata": {},
   "source": [
    "#### `status`"
   ]
  },
  {
   "cell_type": "code",
   "execution_count": 7,
   "id": "f11b1430",
   "metadata": {},
   "outputs": [],
   "source": [
    "work_properties_df['status'] = work_properties_df['status'].map(lambda x: x.strip()) "
   ]
  },
  {
   "cell_type": "code",
   "execution_count": 8,
   "id": "2073077c",
   "metadata": {},
   "outputs": [
    {
     "data": {
      "text/plain": [
       "0      Sold\n",
       "1      Sold\n",
       "2      Sold\n",
       "3      Sold\n",
       "4      Sold\n",
       "       ... \n",
       "262       -\n",
       "263       -\n",
       "264       -\n",
       "265       -\n",
       "266       -\n",
       "Name: status, Length: 267, dtype: object"
      ]
     },
     "execution_count": 8,
     "metadata": {},
     "output_type": "execute_result"
    }
   ],
   "source": [
    "work_properties_df['status']"
   ]
  },
  {
   "cell_type": "code",
   "execution_count": 9,
   "id": "5b4ef23d",
   "metadata": {},
   "outputs": [],
   "source": [
    "work_properties_df['status'] = work_properties_df['status'].map({'Sold':1, '-':0})"
   ]
  },
  {
   "cell_type": "code",
   "execution_count": 10,
   "id": "37de2206",
   "metadata": {},
   "outputs": [
    {
     "data": {
      "text/plain": [
       "0      1\n",
       "1      1\n",
       "2      1\n",
       "3      1\n",
       "4      1\n",
       "      ..\n",
       "262    0\n",
       "263    0\n",
       "264    0\n",
       "265    0\n",
       "266    0\n",
       "Name: status, Length: 267, dtype: int64"
      ]
     },
     "execution_count": 10,
     "metadata": {},
     "output_type": "execute_result"
    }
   ],
   "source": [
    "work_properties_df['status']"
   ]
  },
  {
   "cell_type": "code",
   "execution_count": 11,
   "id": "1efa02dd",
   "metadata": {},
   "outputs": [
    {
     "data": {
      "text/plain": [
       "status\n",
       "1    195\n",
       "0     72\n",
       "Name: count, dtype: int64"
      ]
     },
     "execution_count": 11,
     "metadata": {},
     "output_type": "execute_result"
    }
   ],
   "source": [
    "work_properties_df['status'].value_counts()"
   ]
  },
  {
   "cell_type": "markdown",
   "id": "bf055f6e",
   "metadata": {},
   "source": [
    "#### `type`"
   ]
  },
  {
   "cell_type": "code",
   "execution_count": 12,
   "id": "da51c77d",
   "metadata": {},
   "outputs": [
    {
     "data": {
      "text/plain": [
       "{'Apartment', 'Office'}"
      ]
     },
     "execution_count": 12,
     "metadata": {},
     "output_type": "execute_result"
    }
   ],
   "source": [
    "set(work_properties_df['type'])"
   ]
  },
  {
   "cell_type": "code",
   "execution_count": 13,
   "id": "8ead3c6c",
   "metadata": {},
   "outputs": [],
   "source": [
    "work_properties_df['type'] = work_properties_df['type'].map({'Apartment':1, 'Office':0})"
   ]
  },
  {
   "cell_type": "code",
   "execution_count": 14,
   "id": "acd9e859",
   "metadata": {},
   "outputs": [
    {
     "data": {
      "text/html": [
       "<div>\n",
       "<style scoped>\n",
       "    .dataframe tbody tr th:only-of-type {\n",
       "        vertical-align: middle;\n",
       "    }\n",
       "\n",
       "    .dataframe tbody tr th {\n",
       "        vertical-align: top;\n",
       "    }\n",
       "\n",
       "    .dataframe thead th {\n",
       "        text-align: right;\n",
       "    }\n",
       "</style>\n",
       "<table border=\"1\" class=\"dataframe\">\n",
       "  <thead>\n",
       "    <tr style=\"text-align: right;\">\n",
       "      <th></th>\n",
       "      <th>index</th>\n",
       "      <th>property_id</th>\n",
       "      <th>building</th>\n",
       "      <th>date_sale</th>\n",
       "      <th>type</th>\n",
       "      <th>property#</th>\n",
       "      <th>area</th>\n",
       "      <th>price</th>\n",
       "      <th>status</th>\n",
       "      <th>customerid</th>\n",
       "    </tr>\n",
       "  </thead>\n",
       "  <tbody>\n",
       "    <tr>\n",
       "      <th>0</th>\n",
       "      <td>0</td>\n",
       "      <td>1030</td>\n",
       "      <td>1</td>\n",
       "      <td>11/1/2005</td>\n",
       "      <td>1</td>\n",
       "      <td>30</td>\n",
       "      <td>743.09</td>\n",
       "      <td>$246,172.68</td>\n",
       "      <td>1</td>\n",
       "      <td>C0028</td>\n",
       "    </tr>\n",
       "    <tr>\n",
       "      <th>1</th>\n",
       "      <td>1</td>\n",
       "      <td>1029</td>\n",
       "      <td>1</td>\n",
       "      <td>10/1/2005</td>\n",
       "      <td>1</td>\n",
       "      <td>29</td>\n",
       "      <td>756.21</td>\n",
       "      <td>$246,331.90</td>\n",
       "      <td>1</td>\n",
       "      <td>C0027</td>\n",
       "    </tr>\n",
       "    <tr>\n",
       "      <th>2</th>\n",
       "      <td>2</td>\n",
       "      <td>2002</td>\n",
       "      <td>2</td>\n",
       "      <td>7/1/2007</td>\n",
       "      <td>1</td>\n",
       "      <td>2</td>\n",
       "      <td>587.28</td>\n",
       "      <td>$209,280.91</td>\n",
       "      <td>1</td>\n",
       "      <td>C0112</td>\n",
       "    </tr>\n",
       "    <tr>\n",
       "      <th>3</th>\n",
       "      <td>3</td>\n",
       "      <td>2031</td>\n",
       "      <td>2</td>\n",
       "      <td>12/1/2007</td>\n",
       "      <td>1</td>\n",
       "      <td>31</td>\n",
       "      <td>1604.75</td>\n",
       "      <td>$452,667.01</td>\n",
       "      <td>1</td>\n",
       "      <td>C0160</td>\n",
       "    </tr>\n",
       "    <tr>\n",
       "      <th>4</th>\n",
       "      <td>4</td>\n",
       "      <td>1049</td>\n",
       "      <td>1</td>\n",
       "      <td>11/1/2004</td>\n",
       "      <td>1</td>\n",
       "      <td>49</td>\n",
       "      <td>1375.45</td>\n",
       "      <td>$467,083.31</td>\n",
       "      <td>1</td>\n",
       "      <td>C0014</td>\n",
       "    </tr>\n",
       "  </tbody>\n",
       "</table>\n",
       "</div>"
      ],
      "text/plain": [
       "   index  property_id  building  date_sale  type  property#     area  \\\n",
       "0      0         1030         1  11/1/2005     1         30   743.09   \n",
       "1      1         1029         1  10/1/2005     1         29   756.21   \n",
       "2      2         2002         2   7/1/2007     1          2   587.28   \n",
       "3      3         2031         2  12/1/2007     1         31  1604.75   \n",
       "4      4         1049         1  11/1/2004     1         49  1375.45   \n",
       "\n",
       "          price  status customerid  \n",
       "0  $246,172.68        1     C0028   \n",
       "1  $246,331.90        1     C0027   \n",
       "2  $209,280.91        1     C0112   \n",
       "3  $452,667.01        1     C0160   \n",
       "4  $467,083.31        1     C0014   "
      ]
     },
     "execution_count": 14,
     "metadata": {},
     "output_type": "execute_result"
    }
   ],
   "source": [
    "work_properties_df.head()"
   ]
  },
  {
   "cell_type": "code",
   "execution_count": 15,
   "id": "a226c603",
   "metadata": {},
   "outputs": [
    {
     "data": {
      "text/plain": [
       "index            int64\n",
       "property_id      int64\n",
       "building         int64\n",
       "date_sale       object\n",
       "type             int64\n",
       "property#        int64\n",
       "area           float64\n",
       "price           object\n",
       "status           int64\n",
       "customerid      object\n",
       "dtype: object"
      ]
     },
     "execution_count": 15,
     "metadata": {},
     "output_type": "execute_result"
    }
   ],
   "source": [
    "work_properties_df.dtypes"
   ]
  },
  {
   "cell_type": "markdown",
   "id": "2fc297ba",
   "metadata": {},
   "source": [
    "#### `price`"
   ]
  },
  {
   "cell_type": "code",
   "execution_count": 16,
   "id": "9460fa34",
   "metadata": {},
   "outputs": [],
   "source": [
    "work_properties_df['price'] = work_properties_df['price'].map(lambda x: x.replace('$', '').replace(',', '')).astype(float)"
   ]
  },
  {
   "cell_type": "code",
   "execution_count": 17,
   "id": "5147a73f",
   "metadata": {},
   "outputs": [
    {
     "data": {
      "text/plain": [
       "0      246172.68\n",
       "1      246331.90\n",
       "2      209280.91\n",
       "3      452667.01\n",
       "4      467083.31\n",
       "         ...    \n",
       "262    322610.74\n",
       "263    279191.26\n",
       "264    287996.53\n",
       "265    365868.78\n",
       "266    199216.40\n",
       "Name: price, Length: 267, dtype: float64"
      ]
     },
     "execution_count": 17,
     "metadata": {},
     "output_type": "execute_result"
    }
   ],
   "source": [
    "work_properties_df['price']"
   ]
  },
  {
   "cell_type": "markdown",
   "id": "7f8ed4e6",
   "metadata": {},
   "source": [
    "#### Final modifications"
   ]
  },
  {
   "cell_type": "code",
   "execution_count": 18,
   "id": "741d2732",
   "metadata": {},
   "outputs": [],
   "source": [
    "work_properties_df['date_sale'] = pd.to_datetime(work_properties_df['date_sale'], errors='coerce')"
   ]
  },
  {
   "cell_type": "code",
   "execution_count": 19,
   "id": "579433a8",
   "metadata": {},
   "outputs": [],
   "source": [
    "work_properties_df['customerid'] = work_properties_df['customerid'].map(lambda x: x.strip() if isinstance(x, str) else x)"
   ]
  },
  {
   "cell_type": "code",
   "execution_count": 20,
   "id": "6ead340c",
   "metadata": {},
   "outputs": [],
   "source": [
    "work_properties_df.drop('index', axis=1, inplace=True)"
   ]
  },
  {
   "cell_type": "markdown",
   "id": "fba05d39",
   "metadata": {},
   "source": [
    "#### Result"
   ]
  },
  {
   "cell_type": "code",
   "execution_count": 21,
   "id": "991bb5a2",
   "metadata": {},
   "outputs": [
    {
     "data": {
      "text/html": [
       "<div>\n",
       "<style scoped>\n",
       "    .dataframe tbody tr th:only-of-type {\n",
       "        vertical-align: middle;\n",
       "    }\n",
       "\n",
       "    .dataframe tbody tr th {\n",
       "        vertical-align: top;\n",
       "    }\n",
       "\n",
       "    .dataframe thead th {\n",
       "        text-align: right;\n",
       "    }\n",
       "</style>\n",
       "<table border=\"1\" class=\"dataframe\">\n",
       "  <thead>\n",
       "    <tr style=\"text-align: right;\">\n",
       "      <th></th>\n",
       "      <th>property_id</th>\n",
       "      <th>building</th>\n",
       "      <th>date_sale</th>\n",
       "      <th>type</th>\n",
       "      <th>property#</th>\n",
       "      <th>area</th>\n",
       "      <th>price</th>\n",
       "      <th>status</th>\n",
       "      <th>customerid</th>\n",
       "    </tr>\n",
       "  </thead>\n",
       "  <tbody>\n",
       "    <tr>\n",
       "      <th>0</th>\n",
       "      <td>1030</td>\n",
       "      <td>1</td>\n",
       "      <td>2005-11-01</td>\n",
       "      <td>1</td>\n",
       "      <td>30</td>\n",
       "      <td>743.09</td>\n",
       "      <td>246172.68</td>\n",
       "      <td>1</td>\n",
       "      <td>C0028</td>\n",
       "    </tr>\n",
       "    <tr>\n",
       "      <th>1</th>\n",
       "      <td>1029</td>\n",
       "      <td>1</td>\n",
       "      <td>2005-10-01</td>\n",
       "      <td>1</td>\n",
       "      <td>29</td>\n",
       "      <td>756.21</td>\n",
       "      <td>246331.90</td>\n",
       "      <td>1</td>\n",
       "      <td>C0027</td>\n",
       "    </tr>\n",
       "    <tr>\n",
       "      <th>2</th>\n",
       "      <td>2002</td>\n",
       "      <td>2</td>\n",
       "      <td>2007-07-01</td>\n",
       "      <td>1</td>\n",
       "      <td>2</td>\n",
       "      <td>587.28</td>\n",
       "      <td>209280.91</td>\n",
       "      <td>1</td>\n",
       "      <td>C0112</td>\n",
       "    </tr>\n",
       "    <tr>\n",
       "      <th>3</th>\n",
       "      <td>2031</td>\n",
       "      <td>2</td>\n",
       "      <td>2007-12-01</td>\n",
       "      <td>1</td>\n",
       "      <td>31</td>\n",
       "      <td>1604.75</td>\n",
       "      <td>452667.01</td>\n",
       "      <td>1</td>\n",
       "      <td>C0160</td>\n",
       "    </tr>\n",
       "    <tr>\n",
       "      <th>4</th>\n",
       "      <td>1049</td>\n",
       "      <td>1</td>\n",
       "      <td>2004-11-01</td>\n",
       "      <td>1</td>\n",
       "      <td>49</td>\n",
       "      <td>1375.45</td>\n",
       "      <td>467083.31</td>\n",
       "      <td>1</td>\n",
       "      <td>C0014</td>\n",
       "    </tr>\n",
       "  </tbody>\n",
       "</table>\n",
       "</div>"
      ],
      "text/plain": [
       "   property_id  building  date_sale  type  property#     area      price  \\\n",
       "0         1030         1 2005-11-01     1         30   743.09  246172.68   \n",
       "1         1029         1 2005-10-01     1         29   756.21  246331.90   \n",
       "2         2002         2 2007-07-01     1          2   587.28  209280.91   \n",
       "3         2031         2 2007-12-01     1         31  1604.75  452667.01   \n",
       "4         1049         1 2004-11-01     1         49  1375.45  467083.31   \n",
       "\n",
       "   status customerid  \n",
       "0       1      C0028  \n",
       "1       1      C0027  \n",
       "2       1      C0112  \n",
       "3       1      C0160  \n",
       "4       1      C0014  "
      ]
     },
     "execution_count": 21,
     "metadata": {},
     "output_type": "execute_result"
    }
   ],
   "source": [
    "work_properties_df.head()"
   ]
  },
  {
   "cell_type": "code",
   "execution_count": 22,
   "id": "26393332",
   "metadata": {},
   "outputs": [
    {
     "data": {
      "text/plain": [
       "property_id             int64\n",
       "building                int64\n",
       "date_sale      datetime64[ns]\n",
       "type                    int64\n",
       "property#               int64\n",
       "area                  float64\n",
       "price                 float64\n",
       "status                  int64\n",
       "customerid             object\n",
       "dtype: object"
      ]
     },
     "execution_count": 22,
     "metadata": {},
     "output_type": "execute_result"
    }
   ],
   "source": [
    "work_properties_df.dtypes"
   ]
  },
  {
   "cell_type": "code",
   "execution_count": 23,
   "id": "dc815215",
   "metadata": {},
   "outputs": [],
   "source": [
    "preprocessed_properties_df = work_properties_df.copy()"
   ]
  },
  {
   "cell_type": "markdown",
   "id": "bdaf7d5f",
   "metadata": {},
   "source": [
    "## Customers"
   ]
  },
  {
   "cell_type": "markdown",
   "id": "f9beb1a9",
   "metadata": {},
   "source": [
    "We can repeat the process for the `customers` dataset."
   ]
  },
  {
   "cell_type": "code",
   "execution_count": 24,
   "id": "ee91bd0d",
   "metadata": {},
   "outputs": [
    {
     "data": {
      "text/html": [
       "<div>\n",
       "<style scoped>\n",
       "    .dataframe tbody tr th:only-of-type {\n",
       "        vertical-align: middle;\n",
       "    }\n",
       "\n",
       "    .dataframe tbody tr th {\n",
       "        vertical-align: top;\n",
       "    }\n",
       "\n",
       "    .dataframe thead th {\n",
       "        text-align: right;\n",
       "    }\n",
       "</style>\n",
       "<table border=\"1\" class=\"dataframe\">\n",
       "  <thead>\n",
       "    <tr style=\"text-align: right;\">\n",
       "      <th></th>\n",
       "      <th>index</th>\n",
       "      <th>customerid</th>\n",
       "      <th>entity</th>\n",
       "      <th>name</th>\n",
       "      <th>surname</th>\n",
       "      <th>birth_date</th>\n",
       "      <th>sex</th>\n",
       "      <th>country</th>\n",
       "      <th>state</th>\n",
       "      <th>purpose</th>\n",
       "      <th>deal_satisfaction</th>\n",
       "      <th>mortgage</th>\n",
       "      <th>source</th>\n",
       "    </tr>\n",
       "  </thead>\n",
       "  <tbody>\n",
       "    <tr>\n",
       "      <th>0</th>\n",
       "      <td>0</td>\n",
       "      <td>C0110</td>\n",
       "      <td>Individual</td>\n",
       "      <td>Kareem</td>\n",
       "      <td>Liu</td>\n",
       "      <td>5/11/1968</td>\n",
       "      <td>F</td>\n",
       "      <td>USA</td>\n",
       "      <td>California</td>\n",
       "      <td>Home</td>\n",
       "      <td>4</td>\n",
       "      <td>Yes</td>\n",
       "      <td>Website</td>\n",
       "    </tr>\n",
       "    <tr>\n",
       "      <th>1</th>\n",
       "      <td>1</td>\n",
       "      <td>C0010</td>\n",
       "      <td>Individual</td>\n",
       "      <td>Trystan</td>\n",
       "      <td>Oconnor</td>\n",
       "      <td>11/26/1962</td>\n",
       "      <td>M</td>\n",
       "      <td>USA</td>\n",
       "      <td>California</td>\n",
       "      <td>Home</td>\n",
       "      <td>1</td>\n",
       "      <td>No</td>\n",
       "      <td>Website</td>\n",
       "    </tr>\n",
       "    <tr>\n",
       "      <th>2</th>\n",
       "      <td>2</td>\n",
       "      <td>C0132</td>\n",
       "      <td>Individual</td>\n",
       "      <td>Kale</td>\n",
       "      <td>Gay</td>\n",
       "      <td>4/7/1959</td>\n",
       "      <td>M</td>\n",
       "      <td>USA</td>\n",
       "      <td>California</td>\n",
       "      <td>Home</td>\n",
       "      <td>4</td>\n",
       "      <td>Yes</td>\n",
       "      <td>Agency</td>\n",
       "    </tr>\n",
       "    <tr>\n",
       "      <th>3</th>\n",
       "      <td>3</td>\n",
       "      <td>C0137</td>\n",
       "      <td>Individual</td>\n",
       "      <td>Russell</td>\n",
       "      <td>Gross</td>\n",
       "      <td>11/25/1959</td>\n",
       "      <td>M</td>\n",
       "      <td>USA</td>\n",
       "      <td>California</td>\n",
       "      <td>Home</td>\n",
       "      <td>5</td>\n",
       "      <td>No</td>\n",
       "      <td>Website</td>\n",
       "    </tr>\n",
       "    <tr>\n",
       "      <th>4</th>\n",
       "      <td>4</td>\n",
       "      <td>C0174</td>\n",
       "      <td>Company</td>\n",
       "      <td>Marleez</td>\n",
       "      <td>Co</td>\n",
       "      <td>NaN</td>\n",
       "      <td>NaN</td>\n",
       "      <td>USA</td>\n",
       "      <td>California</td>\n",
       "      <td>Investment</td>\n",
       "      <td>5</td>\n",
       "      <td>No</td>\n",
       "      <td>Website</td>\n",
       "    </tr>\n",
       "  </tbody>\n",
       "</table>\n",
       "</div>"
      ],
      "text/plain": [
       "   index customerid      entity     name  surname  birth_date  sex country  \\\n",
       "0      0      C0110  Individual   Kareem      Liu   5/11/1968    F     USA   \n",
       "1      1      C0010  Individual  Trystan  Oconnor  11/26/1962    M     USA   \n",
       "2      2      C0132  Individual     Kale      Gay    4/7/1959    M     USA   \n",
       "3      3      C0137  Individual  Russell    Gross  11/25/1959    M     USA   \n",
       "4      4      C0174     Company  Marleez       Co         NaN  NaN    USA    \n",
       "\n",
       "        state     purpose  deal_satisfaction mortgage   source  \n",
       "0  California        Home                  4      Yes  Website  \n",
       "1  California        Home                  1       No  Website  \n",
       "2  California        Home                  4      Yes   Agency  \n",
       "3  California        Home                  5       No  Website  \n",
       "4  California  Investment                  5       No  Website  "
      ]
     },
     "execution_count": 24,
     "metadata": {},
     "output_type": "execute_result"
    }
   ],
   "source": [
    "raw_customers_df = pd.read_csv(path_customers, sep=',')\n",
    "raw_customers_df.head()"
   ]
  },
  {
   "cell_type": "code",
   "execution_count": 25,
   "id": "9ae36f66",
   "metadata": {},
   "outputs": [
    {
     "data": {
      "text/plain": [
       "index                 int64\n",
       "customerid           object\n",
       "entity               object\n",
       "name                 object\n",
       "surname              object\n",
       "birth_date           object\n",
       "sex                  object\n",
       "country              object\n",
       "state                object\n",
       "purpose              object\n",
       "deal_satisfaction     int64\n",
       "mortgage             object\n",
       "source               object\n",
       "dtype: object"
      ]
     },
     "execution_count": 25,
     "metadata": {},
     "output_type": "execute_result"
    }
   ],
   "source": [
    "raw_customers_df.dtypes"
   ]
  },
  {
   "cell_type": "code",
   "execution_count": 26,
   "id": "b6a2318d",
   "metadata": {},
   "outputs": [
    {
     "data": {
      "text/plain": [
       "index                0\n",
       "customerid           0\n",
       "entity               0\n",
       "name                 0\n",
       "surname              0\n",
       "birth_date           7\n",
       "sex                  7\n",
       "country              0\n",
       "state                8\n",
       "purpose              0\n",
       "deal_satisfaction    0\n",
       "mortgage             0\n",
       "source               0\n",
       "dtype: int64"
      ]
     },
     "execution_count": 26,
     "metadata": {},
     "output_type": "execute_result"
    }
   ],
   "source": [
    "raw_customers_df.isnull().sum()"
   ]
  },
  {
   "cell_type": "code",
   "execution_count": 27,
   "id": "1319209a",
   "metadata": {},
   "outputs": [
    {
     "data": {
      "text/plain": [
       "Index(['index', 'customerid', 'entity', 'name', 'surname', 'birth_date', 'sex',\n",
       "       'country', 'state', 'purpose', 'deal_satisfaction', 'mortgage',\n",
       "       'source'],\n",
       "      dtype='object')"
      ]
     },
     "execution_count": 27,
     "metadata": {},
     "output_type": "execute_result"
    }
   ],
   "source": [
    "raw_customers_df.columns"
   ]
  },
  {
   "cell_type": "code",
   "execution_count": 28,
   "id": "cab3d65e",
   "metadata": {},
   "outputs": [],
   "source": [
    "work_customers_df = raw_customers_df.copy()"
   ]
  },
  {
   "cell_type": "markdown",
   "id": "cce182ec",
   "metadata": {},
   "source": [
    "### Categorical to numerical"
   ]
  },
  {
   "cell_type": "markdown",
   "id": "55464793",
   "metadata": {},
   "source": [
    "#### `entity`"
   ]
  },
  {
   "cell_type": "code",
   "execution_count": 29,
   "id": "26cb8667",
   "metadata": {},
   "outputs": [
    {
     "data": {
      "text/plain": [
       "{'Company', 'Individual'}"
      ]
     },
     "execution_count": 29,
     "metadata": {},
     "output_type": "execute_result"
    }
   ],
   "source": [
    "set(work_customers_df['entity'])"
   ]
  },
  {
   "cell_type": "code",
   "execution_count": 30,
   "id": "7761b89d",
   "metadata": {},
   "outputs": [],
   "source": [
    "work_customers_df['entity'] = work_customers_df['entity'].map({'Company':1, 'Individual':0})"
   ]
  },
  {
   "cell_type": "markdown",
   "id": "eb1a2f8b",
   "metadata": {},
   "source": [
    "#### `sex`"
   ]
  },
  {
   "cell_type": "code",
   "execution_count": 31,
   "id": "ce825aa7",
   "metadata": {},
   "outputs": [
    {
     "data": {
      "text/plain": [
       "{'F', 'M', nan}"
      ]
     },
     "execution_count": 31,
     "metadata": {},
     "output_type": "execute_result"
    }
   ],
   "source": [
    "set(work_customers_df['sex'])"
   ]
  },
  {
   "cell_type": "code",
   "execution_count": 32,
   "id": "6fa2a902",
   "metadata": {},
   "outputs": [],
   "source": [
    "work_customers_df['sex'] = work_customers_df['sex'].map({'F':1, 'M':0})"
   ]
  },
  {
   "cell_type": "markdown",
   "id": "8f4308b0",
   "metadata": {},
   "source": [
    "#### `purpose`"
   ]
  },
  {
   "cell_type": "code",
   "execution_count": 33,
   "id": "62f46b50",
   "metadata": {},
   "outputs": [
    {
     "data": {
      "text/plain": [
       "{'Home', 'Investment'}"
      ]
     },
     "execution_count": 33,
     "metadata": {},
     "output_type": "execute_result"
    }
   ],
   "source": [
    "set(work_customers_df['purpose'])"
   ]
  },
  {
   "cell_type": "code",
   "execution_count": 34,
   "id": "26b2b935",
   "metadata": {},
   "outputs": [],
   "source": [
    "work_customers_df['purpose'] = work_customers_df['purpose'].map({'Investment':1, 'Home':0})"
   ]
  },
  {
   "cell_type": "markdown",
   "id": "e2e4e33c",
   "metadata": {},
   "source": [
    "#### `mortgage`"
   ]
  },
  {
   "cell_type": "code",
   "execution_count": 35,
   "id": "d75e79b3",
   "metadata": {},
   "outputs": [
    {
     "data": {
      "text/plain": [
       "{'No', 'Yes'}"
      ]
     },
     "execution_count": 35,
     "metadata": {},
     "output_type": "execute_result"
    }
   ],
   "source": [
    "set(work_customers_df['mortgage'])"
   ]
  },
  {
   "cell_type": "code",
   "execution_count": 36,
   "id": "aff10fbb",
   "metadata": {},
   "outputs": [],
   "source": [
    "work_customers_df['mortgage'] = work_customers_df['mortgage'].map({'Yes':1, 'No':0})"
   ]
  },
  {
   "cell_type": "markdown",
   "id": "e1fa4b12",
   "metadata": {},
   "source": [
    "#### Nominal variables"
   ]
  },
  {
   "cell_type": "markdown",
   "id": "20333cf9",
   "metadata": {},
   "source": [
    "We aren't going to use `drop_first` because we want to retain all categories for later visualization."
   ]
  },
  {
   "cell_type": "code",
   "execution_count": 37,
   "id": "a127f831",
   "metadata": {},
   "outputs": [],
   "source": [
    "dummies_customers_df = pd.get_dummies(data=work_customers_df, columns=['source'])"
   ]
  },
  {
   "cell_type": "code",
   "execution_count": 38,
   "id": "5a14fff2",
   "metadata": {},
   "outputs": [
    {
     "data": {
      "text/plain": [
       "index                  int64\n",
       "customerid            object\n",
       "entity                 int64\n",
       "name                  object\n",
       "surname               object\n",
       "birth_date            object\n",
       "sex                  float64\n",
       "country               object\n",
       "state                 object\n",
       "purpose                int64\n",
       "deal_satisfaction      int64\n",
       "mortgage               int64\n",
       "source_Agency           bool\n",
       "source_Client           bool\n",
       "source_Website          bool\n",
       "dtype: object"
      ]
     },
     "execution_count": 38,
     "metadata": {},
     "output_type": "execute_result"
    }
   ],
   "source": [
    "dummies_customers_df.dtypes"
   ]
  },
  {
   "cell_type": "markdown",
   "id": "1c92145e",
   "metadata": {},
   "source": [
    "#### Final modifications"
   ]
  },
  {
   "cell_type": "code",
   "execution_count": 39,
   "id": "23f761ff",
   "metadata": {},
   "outputs": [],
   "source": [
    "dummies_customers_df['birth_date'] = pd.to_datetime(dummies_customers_df['birth_date'], errors='coerce')"
   ]
  },
  {
   "cell_type": "code",
   "execution_count": 40,
   "id": "fe0ba0a5",
   "metadata": {},
   "outputs": [],
   "source": [
    "dummies_customers_df.drop('index', axis=1, inplace=True)"
   ]
  },
  {
   "cell_type": "markdown",
   "id": "e24aa6f5",
   "metadata": {},
   "source": [
    "#### Result"
   ]
  },
  {
   "cell_type": "code",
   "execution_count": 41,
   "id": "814b2ab3",
   "metadata": {},
   "outputs": [
    {
     "data": {
      "text/html": [
       "<div>\n",
       "<style scoped>\n",
       "    .dataframe tbody tr th:only-of-type {\n",
       "        vertical-align: middle;\n",
       "    }\n",
       "\n",
       "    .dataframe tbody tr th {\n",
       "        vertical-align: top;\n",
       "    }\n",
       "\n",
       "    .dataframe thead th {\n",
       "        text-align: right;\n",
       "    }\n",
       "</style>\n",
       "<table border=\"1\" class=\"dataframe\">\n",
       "  <thead>\n",
       "    <tr style=\"text-align: right;\">\n",
       "      <th></th>\n",
       "      <th>customerid</th>\n",
       "      <th>entity</th>\n",
       "      <th>name</th>\n",
       "      <th>surname</th>\n",
       "      <th>birth_date</th>\n",
       "      <th>sex</th>\n",
       "      <th>country</th>\n",
       "      <th>state</th>\n",
       "      <th>purpose</th>\n",
       "      <th>deal_satisfaction</th>\n",
       "      <th>mortgage</th>\n",
       "      <th>source_Agency</th>\n",
       "      <th>source_Client</th>\n",
       "      <th>source_Website</th>\n",
       "    </tr>\n",
       "  </thead>\n",
       "  <tbody>\n",
       "    <tr>\n",
       "      <th>0</th>\n",
       "      <td>C0110</td>\n",
       "      <td>0</td>\n",
       "      <td>Kareem</td>\n",
       "      <td>Liu</td>\n",
       "      <td>1968-05-11</td>\n",
       "      <td>1.0</td>\n",
       "      <td>USA</td>\n",
       "      <td>California</td>\n",
       "      <td>0</td>\n",
       "      <td>4</td>\n",
       "      <td>1</td>\n",
       "      <td>False</td>\n",
       "      <td>False</td>\n",
       "      <td>True</td>\n",
       "    </tr>\n",
       "    <tr>\n",
       "      <th>1</th>\n",
       "      <td>C0010</td>\n",
       "      <td>0</td>\n",
       "      <td>Trystan</td>\n",
       "      <td>Oconnor</td>\n",
       "      <td>1962-11-26</td>\n",
       "      <td>0.0</td>\n",
       "      <td>USA</td>\n",
       "      <td>California</td>\n",
       "      <td>0</td>\n",
       "      <td>1</td>\n",
       "      <td>0</td>\n",
       "      <td>False</td>\n",
       "      <td>False</td>\n",
       "      <td>True</td>\n",
       "    </tr>\n",
       "    <tr>\n",
       "      <th>2</th>\n",
       "      <td>C0132</td>\n",
       "      <td>0</td>\n",
       "      <td>Kale</td>\n",
       "      <td>Gay</td>\n",
       "      <td>1959-04-07</td>\n",
       "      <td>0.0</td>\n",
       "      <td>USA</td>\n",
       "      <td>California</td>\n",
       "      <td>0</td>\n",
       "      <td>4</td>\n",
       "      <td>1</td>\n",
       "      <td>True</td>\n",
       "      <td>False</td>\n",
       "      <td>False</td>\n",
       "    </tr>\n",
       "    <tr>\n",
       "      <th>3</th>\n",
       "      <td>C0137</td>\n",
       "      <td>0</td>\n",
       "      <td>Russell</td>\n",
       "      <td>Gross</td>\n",
       "      <td>1959-11-25</td>\n",
       "      <td>0.0</td>\n",
       "      <td>USA</td>\n",
       "      <td>California</td>\n",
       "      <td>0</td>\n",
       "      <td>5</td>\n",
       "      <td>0</td>\n",
       "      <td>False</td>\n",
       "      <td>False</td>\n",
       "      <td>True</td>\n",
       "    </tr>\n",
       "    <tr>\n",
       "      <th>4</th>\n",
       "      <td>C0174</td>\n",
       "      <td>1</td>\n",
       "      <td>Marleez</td>\n",
       "      <td>Co</td>\n",
       "      <td>NaT</td>\n",
       "      <td>NaN</td>\n",
       "      <td>USA</td>\n",
       "      <td>California</td>\n",
       "      <td>1</td>\n",
       "      <td>5</td>\n",
       "      <td>0</td>\n",
       "      <td>False</td>\n",
       "      <td>False</td>\n",
       "      <td>True</td>\n",
       "    </tr>\n",
       "  </tbody>\n",
       "</table>\n",
       "</div>"
      ],
      "text/plain": [
       "  customerid  entity     name  surname birth_date  sex country       state  \\\n",
       "0      C0110       0   Kareem      Liu 1968-05-11  1.0     USA  California   \n",
       "1      C0010       0  Trystan  Oconnor 1962-11-26  0.0     USA  California   \n",
       "2      C0132       0     Kale      Gay 1959-04-07  0.0     USA  California   \n",
       "3      C0137       0  Russell    Gross 1959-11-25  0.0     USA  California   \n",
       "4      C0174       1  Marleez       Co        NaT  NaN    USA   California   \n",
       "\n",
       "   purpose  deal_satisfaction  mortgage  source_Agency  source_Client  \\\n",
       "0        0                  4         1          False          False   \n",
       "1        0                  1         0          False          False   \n",
       "2        0                  4         1           True          False   \n",
       "3        0                  5         0          False          False   \n",
       "4        1                  5         0          False          False   \n",
       "\n",
       "   source_Website  \n",
       "0            True  \n",
       "1            True  \n",
       "2           False  \n",
       "3            True  \n",
       "4            True  "
      ]
     },
     "execution_count": 41,
     "metadata": {},
     "output_type": "execute_result"
    }
   ],
   "source": [
    "dummies_customers_df.head()"
   ]
  },
  {
   "cell_type": "code",
   "execution_count": 42,
   "id": "1b4695ef",
   "metadata": {},
   "outputs": [
    {
     "data": {
      "text/plain": [
       "customerid                   object\n",
       "entity                        int64\n",
       "name                         object\n",
       "surname                      object\n",
       "birth_date           datetime64[ns]\n",
       "sex                         float64\n",
       "country                      object\n",
       "state                        object\n",
       "purpose                       int64\n",
       "deal_satisfaction             int64\n",
       "mortgage                      int64\n",
       "source_Agency                  bool\n",
       "source_Client                  bool\n",
       "source_Website                 bool\n",
       "dtype: object"
      ]
     },
     "execution_count": 42,
     "metadata": {},
     "output_type": "execute_result"
    }
   ],
   "source": [
    "dummies_customers_df.dtypes"
   ]
  },
  {
   "cell_type": "code",
   "execution_count": 43,
   "id": "4f7b21fd",
   "metadata": {},
   "outputs": [],
   "source": [
    "preprocessed_customers_df = dummies_customers_df.copy()"
   ]
  },
  {
   "cell_type": "markdown",
   "id": "cd27f915",
   "metadata": {},
   "source": [
    "## Merge"
   ]
  },
  {
   "cell_type": "markdown",
   "id": "721a33e3",
   "metadata": {},
   "source": [
    "Merge the datasets using `customer_id` column. In this case, the join must be `LEFT` from the table *PROPERTIES* to *CUSTOMERS*."
   ]
  },
  {
   "cell_type": "code",
   "execution_count": 44,
   "id": "29b4d193",
   "metadata": {},
   "outputs": [
    {
     "data": {
      "text/plain": [
       "np.int64(72)"
      ]
     },
     "execution_count": 44,
     "metadata": {},
     "output_type": "execute_result"
    }
   ],
   "source": [
    "preprocessed_properties_df['customerid'].isna().sum() # Not every property is linked to a customer"
   ]
  },
  {
   "cell_type": "code",
   "execution_count": 45,
   "id": "dd4e3bc5",
   "metadata": {},
   "outputs": [
    {
     "data": {
      "text/plain": [
       "np.int64(0)"
      ]
     },
     "execution_count": 45,
     "metadata": {},
     "output_type": "execute_result"
    }
   ],
   "source": [
    "preprocessed_customers_df['customerid'].isna().sum()"
   ]
  },
  {
   "cell_type": "code",
   "execution_count": 46,
   "id": "9dc09465",
   "metadata": {},
   "outputs": [],
   "source": [
    "new_df = pd.merge(preprocessed_properties_df, preprocessed_customers_df, on='customerid', how='left')"
   ]
  },
  {
   "cell_type": "code",
   "execution_count": 47,
   "id": "475c940c",
   "metadata": {},
   "outputs": [
    {
     "data": {
      "text/plain": [
       "(267, 22)"
      ]
     },
     "execution_count": 47,
     "metadata": {},
     "output_type": "execute_result"
    }
   ],
   "source": [
    "new_df.shape"
   ]
  },
  {
   "cell_type": "code",
   "execution_count": 48,
   "id": "ec04d4fe",
   "metadata": {},
   "outputs": [
    {
     "data": {
      "text/html": [
       "<div>\n",
       "<style scoped>\n",
       "    .dataframe tbody tr th:only-of-type {\n",
       "        vertical-align: middle;\n",
       "    }\n",
       "\n",
       "    .dataframe tbody tr th {\n",
       "        vertical-align: top;\n",
       "    }\n",
       "\n",
       "    .dataframe thead th {\n",
       "        text-align: right;\n",
       "    }\n",
       "</style>\n",
       "<table border=\"1\" class=\"dataframe\">\n",
       "  <thead>\n",
       "    <tr style=\"text-align: right;\">\n",
       "      <th></th>\n",
       "      <th>property_id</th>\n",
       "      <th>building</th>\n",
       "      <th>date_sale</th>\n",
       "      <th>type</th>\n",
       "      <th>property#</th>\n",
       "      <th>area</th>\n",
       "      <th>price</th>\n",
       "      <th>status</th>\n",
       "      <th>customerid</th>\n",
       "      <th>entity</th>\n",
       "      <th>...</th>\n",
       "      <th>birth_date</th>\n",
       "      <th>sex</th>\n",
       "      <th>country</th>\n",
       "      <th>state</th>\n",
       "      <th>purpose</th>\n",
       "      <th>deal_satisfaction</th>\n",
       "      <th>mortgage</th>\n",
       "      <th>source_Agency</th>\n",
       "      <th>source_Client</th>\n",
       "      <th>source_Website</th>\n",
       "    </tr>\n",
       "  </thead>\n",
       "  <tbody>\n",
       "    <tr>\n",
       "      <th>0</th>\n",
       "      <td>1030</td>\n",
       "      <td>1</td>\n",
       "      <td>2005-11-01</td>\n",
       "      <td>1</td>\n",
       "      <td>30</td>\n",
       "      <td>743.09</td>\n",
       "      <td>246172.68</td>\n",
       "      <td>1</td>\n",
       "      <td>C0028</td>\n",
       "      <td>0.0</td>\n",
       "      <td>...</td>\n",
       "      <td>1986-06-21</td>\n",
       "      <td>1.0</td>\n",
       "      <td>USA</td>\n",
       "      <td>California</td>\n",
       "      <td>0.0</td>\n",
       "      <td>5.0</td>\n",
       "      <td>0.0</td>\n",
       "      <td>False</td>\n",
       "      <td>False</td>\n",
       "      <td>True</td>\n",
       "    </tr>\n",
       "    <tr>\n",
       "      <th>1</th>\n",
       "      <td>1029</td>\n",
       "      <td>1</td>\n",
       "      <td>2005-10-01</td>\n",
       "      <td>1</td>\n",
       "      <td>29</td>\n",
       "      <td>756.21</td>\n",
       "      <td>246331.90</td>\n",
       "      <td>1</td>\n",
       "      <td>C0027</td>\n",
       "      <td>0.0</td>\n",
       "      <td>...</td>\n",
       "      <td>1983-02-24</td>\n",
       "      <td>1.0</td>\n",
       "      <td>USA</td>\n",
       "      <td>California</td>\n",
       "      <td>0.0</td>\n",
       "      <td>5.0</td>\n",
       "      <td>0.0</td>\n",
       "      <td>False</td>\n",
       "      <td>False</td>\n",
       "      <td>True</td>\n",
       "    </tr>\n",
       "    <tr>\n",
       "      <th>2</th>\n",
       "      <td>2002</td>\n",
       "      <td>2</td>\n",
       "      <td>2007-07-01</td>\n",
       "      <td>1</td>\n",
       "      <td>2</td>\n",
       "      <td>587.28</td>\n",
       "      <td>209280.91</td>\n",
       "      <td>1</td>\n",
       "      <td>C0112</td>\n",
       "      <td>0.0</td>\n",
       "      <td>...</td>\n",
       "      <td>1985-12-27</td>\n",
       "      <td>0.0</td>\n",
       "      <td>USA</td>\n",
       "      <td>California</td>\n",
       "      <td>0.0</td>\n",
       "      <td>1.0</td>\n",
       "      <td>1.0</td>\n",
       "      <td>False</td>\n",
       "      <td>True</td>\n",
       "      <td>False</td>\n",
       "    </tr>\n",
       "    <tr>\n",
       "      <th>3</th>\n",
       "      <td>2031</td>\n",
       "      <td>2</td>\n",
       "      <td>2007-12-01</td>\n",
       "      <td>1</td>\n",
       "      <td>31</td>\n",
       "      <td>1604.75</td>\n",
       "      <td>452667.01</td>\n",
       "      <td>1</td>\n",
       "      <td>C0160</td>\n",
       "      <td>0.0</td>\n",
       "      <td>...</td>\n",
       "      <td>1985-12-27</td>\n",
       "      <td>0.0</td>\n",
       "      <td>USA</td>\n",
       "      <td>California</td>\n",
       "      <td>1.0</td>\n",
       "      <td>3.0</td>\n",
       "      <td>1.0</td>\n",
       "      <td>False</td>\n",
       "      <td>False</td>\n",
       "      <td>True</td>\n",
       "    </tr>\n",
       "    <tr>\n",
       "      <th>4</th>\n",
       "      <td>1049</td>\n",
       "      <td>1</td>\n",
       "      <td>2004-11-01</td>\n",
       "      <td>1</td>\n",
       "      <td>49</td>\n",
       "      <td>1375.45</td>\n",
       "      <td>467083.31</td>\n",
       "      <td>1</td>\n",
       "      <td>C0014</td>\n",
       "      <td>0.0</td>\n",
       "      <td>...</td>\n",
       "      <td>1979-05-15</td>\n",
       "      <td>1.0</td>\n",
       "      <td>USA</td>\n",
       "      <td>California</td>\n",
       "      <td>0.0</td>\n",
       "      <td>4.0</td>\n",
       "      <td>0.0</td>\n",
       "      <td>True</td>\n",
       "      <td>False</td>\n",
       "      <td>False</td>\n",
       "    </tr>\n",
       "  </tbody>\n",
       "</table>\n",
       "<p>5 rows × 22 columns</p>\n",
       "</div>"
      ],
      "text/plain": [
       "   property_id  building  date_sale  type  property#     area      price  \\\n",
       "0         1030         1 2005-11-01     1         30   743.09  246172.68   \n",
       "1         1029         1 2005-10-01     1         29   756.21  246331.90   \n",
       "2         2002         2 2007-07-01     1          2   587.28  209280.91   \n",
       "3         2031         2 2007-12-01     1         31  1604.75  452667.01   \n",
       "4         1049         1 2004-11-01     1         49  1375.45  467083.31   \n",
       "\n",
       "   status customerid  entity  ... birth_date  sex country       state purpose  \\\n",
       "0       1      C0028     0.0  ... 1986-06-21  1.0     USA  California     0.0   \n",
       "1       1      C0027     0.0  ... 1983-02-24  1.0     USA  California     0.0   \n",
       "2       1      C0112     0.0  ... 1985-12-27  0.0     USA  California     0.0   \n",
       "3       1      C0160     0.0  ... 1985-12-27  0.0     USA  California     1.0   \n",
       "4       1      C0014     0.0  ... 1979-05-15  1.0     USA  California     0.0   \n",
       "\n",
       "  deal_satisfaction  mortgage  source_Agency  source_Client source_Website  \n",
       "0               5.0       0.0          False          False           True  \n",
       "1               5.0       0.0          False          False           True  \n",
       "2               1.0       1.0          False           True          False  \n",
       "3               3.0       1.0          False          False           True  \n",
       "4               4.0       0.0           True          False          False  \n",
       "\n",
       "[5 rows x 22 columns]"
      ]
     },
     "execution_count": 48,
     "metadata": {},
     "output_type": "execute_result"
    }
   ],
   "source": [
    "new_df.head()"
   ]
  },
  {
   "cell_type": "code",
   "execution_count": 50,
   "id": "6846e735",
   "metadata": {},
   "outputs": [],
   "source": [
    "new_df.to_csv(path_preproccesed, index=False)"
   ]
  }
 ],
 "metadata": {
  "kernelspec": {
   "display_name": "venv",
   "language": "python",
   "name": "python3"
  },
  "language_info": {
   "codemirror_mode": {
    "name": "ipython",
    "version": 3
   },
   "file_extension": ".py",
   "mimetype": "text/x-python",
   "name": "python",
   "nbconvert_exporter": "python",
   "pygments_lexer": "ipython3",
   "version": "3.12.3"
  }
 },
 "nbformat": 4,
 "nbformat_minor": 5
}
